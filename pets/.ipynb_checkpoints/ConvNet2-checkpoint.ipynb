{
 "cells": [
  {
   "cell_type": "code",
   "execution_count": 9,
   "id": "78c72b9c",
   "metadata": {},
   "outputs": [],
   "source": [
    "import tensorflow as tf\n",
    "from tensorflow.keras.models import Sequential\n",
    "from tensorflow.keras.layers import Dense, Dropout, Activation, Flatten, Conv2D, MaxPooling2D\n",
    "import pickle\n",
    "from tensorflow.keras.callbacks import TensorBoard\n",
    "import time"
   ]
  },
  {
   "cell_type": "code",
   "execution_count": 10,
   "id": "3ed96c2f",
   "metadata": {},
   "outputs": [
    {
     "name": "stdout",
     "output_type": "stream",
     "text": [
      "Num GPUs Available:  1\n"
     ]
    }
   ],
   "source": [
    "print(\"Num GPUs Available: \", len(tf.config.list_physical_devices('GPU')))"
   ]
  },
  {
   "cell_type": "code",
   "execution_count": 11,
   "id": "5d0813bc",
   "metadata": {
    "scrolled": true
   },
   "outputs": [
    {
     "name": "stderr",
     "output_type": "stream",
     "text": [
      "2022-11-14 22:09:03.337833: I tensorflow/stream_executor/cuda/cuda_gpu_executor.cc:980] successful NUMA node read from SysFS had negative value (-1), but there must be at least one NUMA node, so returning NUMA node zero\n",
      "2022-11-14 22:09:03.338230: I tensorflow/stream_executor/cuda/cuda_gpu_executor.cc:980] successful NUMA node read from SysFS had negative value (-1), but there must be at least one NUMA node, so returning NUMA node zero\n",
      "2022-11-14 22:09:03.338471: I tensorflow/stream_executor/cuda/cuda_gpu_executor.cc:980] successful NUMA node read from SysFS had negative value (-1), but there must be at least one NUMA node, so returning NUMA node zero\n",
      "2022-11-14 22:09:03.338889: I tensorflow/stream_executor/cuda/cuda_gpu_executor.cc:980] successful NUMA node read from SysFS had negative value (-1), but there must be at least one NUMA node, so returning NUMA node zero\n",
      "2022-11-14 22:09:03.339185: I tensorflow/stream_executor/cuda/cuda_gpu_executor.cc:980] successful NUMA node read from SysFS had negative value (-1), but there must be at least one NUMA node, so returning NUMA node zero\n",
      "2022-11-14 22:09:03.339406: I tensorflow/core/common_runtime/gpu/gpu_device.cc:1616] Created device /job:localhost/replica:0/task:0/device:GPU:0 with 1957 MB memory:  -> device: 0, name: NVIDIA GeForce GTX 1650 Ti with Max-Q Design, pci bus id: 0000:01:00.0, compute capability: 7.5\n"
     ]
    }
   ],
   "source": [
    "gpu_options = tf.compat.v1.GPUOptions(per_process_gpu_memory_fraction=0.5)\n",
    "sess = tf.compat.v1.Session(config=tf.compat.v1.ConfigProto(gpu_options=gpu_options))"
   ]
  },
  {
   "cell_type": "code",
   "execution_count": 12,
   "id": "8319b731",
   "metadata": {},
   "outputs": [],
   "source": [
    "X = pickle.load(open(\"X.pickle\", \"rb\"))\n",
    "y = pickle.load(open(\"y.pickle\", \"rb\"))"
   ]
  },
  {
   "cell_type": "code",
   "execution_count": 13,
   "id": "3c47221c",
   "metadata": {},
   "outputs": [],
   "source": [
    "X = X/255.0"
   ]
  },
  {
   "cell_type": "code",
   "execution_count": 14,
   "id": "894058e5",
   "metadata": {},
   "outputs": [
    {
     "data": {
      "text/plain": [
       "(50, 50, 1)"
      ]
     },
     "execution_count": 14,
     "metadata": {},
     "output_type": "execute_result"
    }
   ],
   "source": [
    "X.shape[1:]"
   ]
  },
  {
   "cell_type": "code",
   "execution_count": 15,
   "id": "8f99db8f",
   "metadata": {},
   "outputs": [],
   "source": [
    "dense_layers = [0, 1, 2]\n",
    "layer_sizes = [32, 64, 128]\n",
    "conv_layers = [1, 2, 3]"
   ]
  },
  {
   "cell_type": "code",
   "execution_count": null,
   "id": "71337efa",
   "metadata": {
    "scrolled": true
   },
   "outputs": [
    {
     "name": "stdout",
     "output_type": "stream",
     "text": [
      "1-conv-32-nodes-0-dense-1668443944\n",
      "Epoch 1/10\n",
      "702/702 [==============================] - 2s 3ms/step - loss: 0.6253 - accuracy: 0.6528 - val_loss: 0.5768 - val_accuracy: 0.7086\n",
      "Epoch 2/10\n",
      "702/702 [==============================] - 2s 3ms/step - loss: 0.5531 - accuracy: 0.7209 - val_loss: 0.5521 - val_accuracy: 0.7251\n",
      "Epoch 3/10\n",
      "702/702 [==============================] - 2s 3ms/step - loss: 0.5186 - accuracy: 0.7496 - val_loss: 0.5270 - val_accuracy: 0.7455\n",
      "Epoch 4/10\n",
      "702/702 [==============================] - 2s 3ms/step - loss: 0.4953 - accuracy: 0.7650 - val_loss: 0.5308 - val_accuracy: 0.7447\n",
      "Epoch 5/10\n",
      "702/702 [==============================] - 2s 3ms/step - loss: 0.4841 - accuracy: 0.7735 - val_loss: 0.5198 - val_accuracy: 0.7531\n",
      "Epoch 6/10\n",
      "702/702 [==============================] - 2s 3ms/step - loss: 0.4723 - accuracy: 0.7759 - val_loss: 0.5294 - val_accuracy: 0.7551\n",
      "Epoch 7/10\n",
      "702/702 [==============================] - 2s 3ms/step - loss: 0.4630 - accuracy: 0.7817 - val_loss: 0.5177 - val_accuracy: 0.7415\n",
      "Epoch 8/10\n",
      "702/702 [==============================] - 2s 3ms/step - loss: 0.4481 - accuracy: 0.7942 - val_loss: 0.5441 - val_accuracy: 0.7367\n",
      "Epoch 9/10\n",
      "702/702 [==============================] - 2s 3ms/step - loss: 0.4432 - accuracy: 0.7966 - val_loss: 0.5150 - val_accuracy: 0.7523\n",
      "Epoch 10/10\n",
      "702/702 [==============================] - 2s 3ms/step - loss: 0.4336 - accuracy: 0.8013 - val_loss: 0.5157 - val_accuracy: 0.7571\n",
      "2-conv-32-nodes-0-dense-1668443964\n",
      "Epoch 1/10\n",
      "702/702 [==============================] - 3s 3ms/step - loss: 0.6200 - accuracy: 0.6492 - val_loss: 0.5423 - val_accuracy: 0.7335\n",
      "Epoch 2/10\n",
      "702/702 [==============================] - 2s 3ms/step - loss: 0.5249 - accuracy: 0.7413 - val_loss: 0.5225 - val_accuracy: 0.7487\n",
      "Epoch 3/10\n",
      "702/702 [==============================] - 2s 3ms/step - loss: 0.4907 - accuracy: 0.7653 - val_loss: 0.4743 - val_accuracy: 0.7764\n",
      "Epoch 4/10\n",
      "702/702 [==============================] - 2s 3ms/step - loss: 0.4685 - accuracy: 0.7795 - val_loss: 0.4601 - val_accuracy: 0.7816\n",
      "Epoch 5/10\n",
      "702/702 [==============================] - 2s 3ms/step - loss: 0.4490 - accuracy: 0.7923 - val_loss: 0.4558 - val_accuracy: 0.7840\n",
      "Epoch 6/10\n",
      "702/702 [==============================] - 2s 3ms/step - loss: 0.4285 - accuracy: 0.8046 - val_loss: 0.4349 - val_accuracy: 0.7988\n",
      "Epoch 7/10\n",
      "702/702 [==============================] - 2s 3ms/step - loss: 0.4124 - accuracy: 0.8118 - val_loss: 0.4700 - val_accuracy: 0.7852\n",
      "Epoch 8/10\n",
      "702/702 [==============================] - 2s 3ms/step - loss: 0.4008 - accuracy: 0.8200 - val_loss: 0.4285 - val_accuracy: 0.8040\n",
      "Epoch 9/10\n",
      "702/702 [==============================] - 2s 4ms/step - loss: 0.3853 - accuracy: 0.8270 - val_loss: 0.4419 - val_accuracy: 0.7868\n",
      "Epoch 10/10\n",
      "702/702 [==============================] - 2s 4ms/step - loss: 0.3740 - accuracy: 0.8339 - val_loss: 0.4521 - val_accuracy: 0.7888\n",
      "3-conv-32-nodes-0-dense-1668443988\n",
      "Epoch 1/10\n",
      "702/702 [==============================] - 3s 4ms/step - loss: 0.6394 - accuracy: 0.6227 - val_loss: 0.6089 - val_accuracy: 0.6721\n",
      "Epoch 2/10\n",
      "702/702 [==============================] - 3s 4ms/step - loss: 0.5658 - accuracy: 0.7070 - val_loss: 0.5596 - val_accuracy: 0.7082\n",
      "Epoch 3/10\n",
      "702/702 [==============================] - 3s 4ms/step - loss: 0.5189 - accuracy: 0.7450 - val_loss: 0.5085 - val_accuracy: 0.7519\n",
      "Epoch 4/10\n",
      "702/702 [==============================] - 3s 4ms/step - loss: 0.4888 - accuracy: 0.7655 - val_loss: 0.4954 - val_accuracy: 0.7567\n",
      "Epoch 5/10\n",
      "702/702 [==============================] - 3s 4ms/step - loss: 0.4673 - accuracy: 0.7813 - val_loss: 0.4772 - val_accuracy: 0.7715\n",
      "Epoch 6/10\n",
      "702/702 [==============================] - 3s 4ms/step - loss: 0.4422 - accuracy: 0.7967 - val_loss: 0.4546 - val_accuracy: 0.7848\n",
      "Epoch 7/10\n",
      "702/702 [==============================] - 3s 4ms/step - loss: 0.4231 - accuracy: 0.8059 - val_loss: 0.4983 - val_accuracy: 0.7651\n",
      "Epoch 8/10\n",
      "702/702 [==============================] - 3s 4ms/step - loss: 0.4071 - accuracy: 0.8183 - val_loss: 0.4351 - val_accuracy: 0.7932\n",
      "Epoch 9/10\n",
      "702/702 [==============================] - 3s 4ms/step - loss: 0.3900 - accuracy: 0.8236 - val_loss: 0.4312 - val_accuracy: 0.8020\n",
      "Epoch 10/10\n",
      "702/702 [==============================] - 3s 4ms/step - loss: 0.3733 - accuracy: 0.8345 - val_loss: 0.4226 - val_accuracy: 0.8020\n",
      "1-conv-64-nodes-0-dense-1668444016\n",
      "Epoch 1/10\n",
      "702/702 [==============================] - 3s 4ms/step - loss: 0.6153 - accuracy: 0.6584 - val_loss: 0.5670 - val_accuracy: 0.7271\n",
      "Epoch 2/10\n",
      "702/702 [==============================] - 3s 4ms/step - loss: 0.5417 - accuracy: 0.7324 - val_loss: 0.5638 - val_accuracy: 0.7070\n",
      "Epoch 3/10\n",
      "702/702 [==============================] - 3s 4ms/step - loss: 0.5081 - accuracy: 0.7540 - val_loss: 0.5349 - val_accuracy: 0.7347\n",
      "Epoch 4/10\n",
      "702/702 [==============================] - 3s 4ms/step - loss: 0.4814 - accuracy: 0.7716 - val_loss: 0.5197 - val_accuracy: 0.7467\n",
      "Epoch 5/10\n",
      "702/702 [==============================] - 3s 4ms/step - loss: 0.4621 - accuracy: 0.7840 - val_loss: 0.5311 - val_accuracy: 0.7379\n",
      "Epoch 6/10\n",
      "702/702 [==============================] - 3s 4ms/step - loss: 0.4460 - accuracy: 0.7937 - val_loss: 0.5317 - val_accuracy: 0.7423\n",
      "Epoch 7/10\n",
      "702/702 [==============================] - 3s 4ms/step - loss: 0.4291 - accuracy: 0.8033 - val_loss: 0.5232 - val_accuracy: 0.7491\n",
      "Epoch 8/10\n",
      "702/702 [==============================] - 3s 4ms/step - loss: 0.4156 - accuracy: 0.8099 - val_loss: 0.5225 - val_accuracy: 0.7515\n",
      "Epoch 9/10\n",
      "702/702 [==============================] - 3s 4ms/step - loss: 0.3995 - accuracy: 0.8184 - val_loss: 0.5403 - val_accuracy: 0.7459\n",
      "Epoch 10/10\n",
      "702/702 [==============================] - 3s 4ms/step - loss: 0.3837 - accuracy: 0.8303 - val_loss: 0.5331 - val_accuracy: 0.7595\n",
      "2-conv-64-nodes-0-dense-1668444044\n",
      "Epoch 1/10\n",
      "702/702 [==============================] - 4s 5ms/step - loss: 0.6161 - accuracy: 0.6533 - val_loss: 0.5445 - val_accuracy: 0.7359\n",
      "Epoch 2/10\n",
      "702/702 [==============================] - 4s 5ms/step - loss: 0.5186 - accuracy: 0.7450 - val_loss: 0.4842 - val_accuracy: 0.7764\n",
      "Epoch 3/10\n",
      "702/702 [==============================] - 4s 6ms/step - loss: 0.4804 - accuracy: 0.7738 - val_loss: 0.4681 - val_accuracy: 0.7768\n",
      "Epoch 4/10\n",
      "702/702 [==============================] - 4s 6ms/step - loss: 0.4556 - accuracy: 0.7876 - val_loss: 0.4534 - val_accuracy: 0.7792\n",
      "Epoch 5/10\n",
      "702/702 [==============================] - 4s 5ms/step - loss: 0.4325 - accuracy: 0.8024 - val_loss: 0.4464 - val_accuracy: 0.7936\n",
      "Epoch 6/10\n",
      "702/702 [==============================] - 4s 5ms/step - loss: 0.4142 - accuracy: 0.8143 - val_loss: 0.4279 - val_accuracy: 0.7968\n",
      "Epoch 7/10\n",
      "702/702 [==============================] - 4s 6ms/step - loss: 0.3942 - accuracy: 0.8190 - val_loss: 0.4270 - val_accuracy: 0.8100\n",
      "Epoch 8/10\n",
      "702/702 [==============================] - 4s 5ms/step - loss: 0.3733 - accuracy: 0.8343 - val_loss: 0.4138 - val_accuracy: 0.8072\n",
      "Epoch 9/10\n",
      "702/702 [==============================] - 4s 5ms/step - loss: 0.3552 - accuracy: 0.8449 - val_loss: 0.4142 - val_accuracy: 0.8168\n",
      "Epoch 10/10\n",
      "702/702 [==============================] - 4s 6ms/step - loss: 0.3387 - accuracy: 0.8513 - val_loss: 0.4257 - val_accuracy: 0.8136\n",
      "3-conv-64-nodes-0-dense-1668444083\n",
      "Epoch 1/10\n",
      "702/702 [==============================] - 5s 7ms/step - loss: 0.6301 - accuracy: 0.6348 - val_loss: 0.5418 - val_accuracy: 0.7347\n",
      "Epoch 2/10\n",
      "702/702 [==============================] - 5s 7ms/step - loss: 0.5185 - accuracy: 0.7432 - val_loss: 0.4965 - val_accuracy: 0.7707\n",
      "Epoch 3/10\n",
      "702/702 [==============================] - 5s 7ms/step - loss: 0.4716 - accuracy: 0.7740 - val_loss: 0.4727 - val_accuracy: 0.7735\n",
      "Epoch 4/10\n",
      "702/702 [==============================] - 5s 7ms/step - loss: 0.4325 - accuracy: 0.8012 - val_loss: 0.4485 - val_accuracy: 0.7924\n",
      "Epoch 5/10\n",
      "702/702 [==============================] - 5s 6ms/step - loss: 0.4000 - accuracy: 0.8195 - val_loss: 0.4406 - val_accuracy: 0.8024\n",
      "Epoch 6/10\n",
      "702/702 [==============================] - 5s 7ms/step - loss: 0.3706 - accuracy: 0.8333 - val_loss: 0.4386 - val_accuracy: 0.7964\n",
      "Epoch 7/10\n"
     ]
    },
    {
     "name": "stdout",
     "output_type": "stream",
     "text": [
      "702/702 [==============================] - 4s 6ms/step - loss: 0.3408 - accuracy: 0.8499 - val_loss: 0.4114 - val_accuracy: 0.8128\n",
      "Epoch 8/10\n",
      "702/702 [==============================] - 4s 6ms/step - loss: 0.3142 - accuracy: 0.8631 - val_loss: 0.4009 - val_accuracy: 0.8285\n",
      "Epoch 9/10\n",
      "702/702 [==============================] - 5s 7ms/step - loss: 0.2864 - accuracy: 0.8784 - val_loss: 0.3876 - val_accuracy: 0.8297\n",
      "Epoch 10/10\n",
      "702/702 [==============================] - 5s 6ms/step - loss: 0.2669 - accuracy: 0.8874 - val_loss: 0.4751 - val_accuracy: 0.8060\n"
     ]
    }
   ],
   "source": [
    "for dense_layer in dense_layers:\n",
    "    for layer_size in layer_sizes:\n",
    "        for conv_layer in conv_layers:\n",
    "            NAME = \"{}-conv-{}-nodes-{}-dense-{}\".format(conv_layer, layer_size, dense_layer, int(time.time()))\n",
    "            print(NAME)\n",
    "            tensorboard = TensorBoard(log_dir='varying_logs/{}'.format(NAME))\n",
    "            model = Sequential()\n",
    "            model.add(Conv2D(layer_size, (3,3), input_shape = X.shape[1:]))\n",
    "            model.add(Activation(\"relu\"))\n",
    "            model.add(MaxPooling2D(pool_size=(2,2)))\n",
    "\n",
    "            for l in range(conv_layer-1):\n",
    "                model.add(Conv2D(layer_size, (3,3)))\n",
    "                model.add(Activation(\"relu\"))\n",
    "                model.add(MaxPooling2D(pool_size=(2,2)))\n",
    "            \n",
    "            model.add(Flatten())\n",
    "            for l in range(dense_layer):\n",
    "                model.add(Dense(layer_size))\n",
    "                model.add(Activation('relu'))\n",
    "\n",
    "            model.add(Dense(1))\n",
    "            model.add(Activation('sigmoid'))\n",
    "            model.compile(loss=\"binary_crossentropy\", optimizer=\"adam\", metrics=['accuracy'])\n",
    "            model.fit(X, y, batch_size=32, epochs=10, validation_split=0.1, callbacks=[tensorboard])"
   ]
  },
  {
   "cell_type": "code",
   "execution_count": null,
   "id": "cf5cb997",
   "metadata": {},
   "outputs": [],
   "source": []
  }
 ],
 "metadata": {
  "kernelspec": {
   "display_name": "Python 3 (ipykernel)",
   "language": "python",
   "name": "python3"
  },
  "language_info": {
   "codemirror_mode": {
    "name": "ipython",
    "version": 3
   },
   "file_extension": ".py",
   "mimetype": "text/x-python",
   "name": "python",
   "nbconvert_exporter": "python",
   "pygments_lexer": "ipython3",
   "version": "3.10.6"
  }
 },
 "nbformat": 4,
 "nbformat_minor": 5
}
