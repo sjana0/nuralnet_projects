{
 "cells": [
  {
   "cell_type": "code",
   "execution_count": 28,
   "id": "81f11646",
   "metadata": {},
   "outputs": [],
   "source": [
    "import tensorflow as tf\n",
    "from tensorflow.keras.models import Sequential\n",
    "from tensorflow.keras.layers import Dense, Dropout, Activation, Flatten, Conv2D, MaxPooling2D\n",
    "import pickle\n",
    "from tensorflow.keras.callbacks import TensorBoard\n",
    "import time"
   ]
  },
  {
   "cell_type": "code",
   "execution_count": 29,
   "id": "3230392c",
   "metadata": {},
   "outputs": [],
   "source": [
    "NAME=\"Cats-vs-Dogs-cnn-64x2-{}\".format(int(time.time()))\n",
    "tensorboard = TensorBoard(log_dir='logs/{}'.format(NAME))"
   ]
  },
  {
   "cell_type": "code",
   "execution_count": 30,
   "id": "a55dbc2e",
   "metadata": {},
   "outputs": [
    {
     "name": "stderr",
     "output_type": "stream",
     "text": [
      "2022-11-13 16:27:36.369442: I tensorflow/stream_executor/cuda/cuda_gpu_executor.cc:980] successful NUMA node read from SysFS had negative value (-1), but there must be at least one NUMA node, so returning NUMA node zero\n",
      "2022-11-13 16:27:36.369877: W tensorflow/core/common_runtime/gpu/gpu_device.cc:1934] Cannot dlopen some GPU libraries. Please make sure the missing libraries mentioned above are installed properly if you would like to use GPU. Follow the guide at https://www.tensorflow.org/install/gpu for how to download and setup the required libraries for your platform.\n",
      "Skipping registering GPU devices...\n"
     ]
    }
   ],
   "source": [
    "gpu_options = tf.compat.v1.GPUOptions(per_process_gpu_memory_fraction=0.333)\n",
    "sess = tf.compat.v1.Session(config=tf.compat.v1.ConfigProto(gpu_options=gpu_options))"
   ]
  },
  {
   "cell_type": "code",
   "execution_count": 31,
   "id": "b8b234a4",
   "metadata": {},
   "outputs": [],
   "source": [
    "X = pickle.load(open(\"X.pickle\", \"rb\"))\n",
    "y = pickle.load(open(\"y.pickle\", \"rb\"))"
   ]
  },
  {
   "cell_type": "code",
   "execution_count": 32,
   "id": "52fafb02",
   "metadata": {},
   "outputs": [],
   "source": [
    "X = X/255.0"
   ]
  },
  {
   "cell_type": "code",
   "execution_count": 33,
   "id": "9e09c2ef",
   "metadata": {},
   "outputs": [
    {
     "data": {
      "text/plain": [
       "(50, 50, 1)"
      ]
     },
     "execution_count": 33,
     "metadata": {},
     "output_type": "execute_result"
    }
   ],
   "source": [
    "X.shape[1:]"
   ]
  },
  {
   "cell_type": "code",
   "execution_count": 35,
   "id": "24b9c820",
   "metadata": {},
   "outputs": [],
   "source": [
    "model = Sequential()\n",
    "model.add(Conv2D(64, (3,3), input_shape = X.shape[1:]))\n",
    "model.add(Activation(\"relu\"))\n",
    "model.add(MaxPooling2D(pool_size=(2,2)))\n",
    "\n",
    "model.add(Conv2D(64, (3,3), input_shape = X.shape[1:]))\n",
    "model.add(Activation(\"relu\"))\n",
    "model.add(MaxPooling2D(pool_size=(2,2)))\n",
    "\n",
    "model.add(Flatten())\n",
    "model.add(Dense(64))\n",
    "model.add(Activation('relu'))\n",
    "\n",
    "model.add(Dense(1))\n",
    "model.add(Activation('sigmoid'))"
   ]
  },
  {
   "cell_type": "code",
   "execution_count": 36,
   "id": "04ae680b",
   "metadata": {},
   "outputs": [],
   "source": [
    "model.compile(loss=\"binary_crossentropy\", optimizer=\"adam\", metrics=['accuracy'])"
   ]
  },
  {
   "cell_type": "code",
   "execution_count": 37,
   "id": "9ee211f9",
   "metadata": {
    "scrolled": true
   },
   "outputs": [
    {
     "name": "stdout",
     "output_type": "stream",
     "text": [
      "Epoch 1/20\n",
      "702/702 [==============================] - 24s 34ms/step - loss: 0.6153 - accuracy: 0.6500 - val_loss: 0.5647 - val_accuracy: 0.7170\n",
      "Epoch 2/20\n",
      "702/702 [==============================] - 23s 32ms/step - loss: 0.5212 - accuracy: 0.7449 - val_loss: 0.4909 - val_accuracy: 0.7571\n",
      "Epoch 3/20\n",
      "702/702 [==============================] - 23s 32ms/step - loss: 0.4855 - accuracy: 0.7707 - val_loss: 0.4688 - val_accuracy: 0.7731\n",
      "Epoch 4/20\n",
      "702/702 [==============================] - 23s 33ms/step - loss: 0.4601 - accuracy: 0.7846 - val_loss: 0.4524 - val_accuracy: 0.7868\n",
      "Epoch 5/20\n",
      "702/702 [==============================] - 24s 34ms/step - loss: 0.4364 - accuracy: 0.7974 - val_loss: 0.4474 - val_accuracy: 0.7892\n",
      "Epoch 6/20\n",
      "702/702 [==============================] - 24s 34ms/step - loss: 0.4129 - accuracy: 0.8115 - val_loss: 0.4447 - val_accuracy: 0.7860\n",
      "Epoch 7/20\n",
      "702/702 [==============================] - 23s 33ms/step - loss: 0.3957 - accuracy: 0.8212 - val_loss: 0.4298 - val_accuracy: 0.8004\n",
      "Epoch 8/20\n",
      "702/702 [==============================] - 23s 32ms/step - loss: 0.3714 - accuracy: 0.8340 - val_loss: 0.4576 - val_accuracy: 0.7784\n",
      "Epoch 9/20\n",
      "702/702 [==============================] - 23s 32ms/step - loss: 0.3584 - accuracy: 0.8385 - val_loss: 0.4379 - val_accuracy: 0.7900\n",
      "Epoch 10/20\n",
      "702/702 [==============================] - 23s 32ms/step - loss: 0.3356 - accuracy: 0.8543 - val_loss: 0.4213 - val_accuracy: 0.8112\n",
      "Epoch 11/20\n",
      "702/702 [==============================] - 23s 32ms/step - loss: 0.3215 - accuracy: 0.8605 - val_loss: 0.4115 - val_accuracy: 0.8144\n",
      "Epoch 12/20\n",
      "702/702 [==============================] - 21s 30ms/step - loss: 0.3070 - accuracy: 0.8670 - val_loss: 0.4161 - val_accuracy: 0.8140\n",
      "Epoch 13/20\n",
      "702/702 [==============================] - 19s 27ms/step - loss: 0.2884 - accuracy: 0.8772 - val_loss: 0.4108 - val_accuracy: 0.8176\n",
      "Epoch 14/20\n",
      "702/702 [==============================] - 21s 30ms/step - loss: 0.2763 - accuracy: 0.8835 - val_loss: 0.4264 - val_accuracy: 0.8072\n",
      "Epoch 15/20\n",
      "702/702 [==============================] - 21s 29ms/step - loss: 0.2617 - accuracy: 0.8894 - val_loss: 0.4191 - val_accuracy: 0.8200\n",
      "Epoch 16/20\n",
      "702/702 [==============================] - 18s 26ms/step - loss: 0.2512 - accuracy: 0.8949 - val_loss: 0.4276 - val_accuracy: 0.8224\n",
      "Epoch 17/20\n",
      "702/702 [==============================] - 19s 27ms/step - loss: 0.2376 - accuracy: 0.9019 - val_loss: 0.4388 - val_accuracy: 0.8152\n",
      "Epoch 18/20\n",
      "702/702 [==============================] - 19s 27ms/step - loss: 0.2246 - accuracy: 0.9064 - val_loss: 0.4460 - val_accuracy: 0.8068\n",
      "Epoch 19/20\n",
      "702/702 [==============================] - 19s 27ms/step - loss: 0.2141 - accuracy: 0.9126 - val_loss: 0.4692 - val_accuracy: 0.8168\n",
      "Epoch 20/20\n",
      "702/702 [==============================] - 20s 29ms/step - loss: 0.2046 - accuracy: 0.9159 - val_loss: 0.4740 - val_accuracy: 0.8092\n"
     ]
    },
    {
     "data": {
      "text/plain": [
       "<keras.callbacks.History at 0x7f22fc6aace0>"
      ]
     },
     "execution_count": 37,
     "metadata": {},
     "output_type": "execute_result"
    }
   ],
   "source": [
    "model.fit(X, y, batch_size=32, epochs=20, validation_split=0.1, callbacks=[tensorboard])"
   ]
  },
  {
   "cell_type": "code",
   "execution_count": null,
   "id": "2fe4b479",
   "metadata": {},
   "outputs": [],
   "source": []
  }
 ],
 "metadata": {
  "kernelspec": {
   "display_name": "Python 3 (ipykernel)",
   "language": "python",
   "name": "python3"
  },
  "language_info": {
   "codemirror_mode": {
    "name": "ipython",
    "version": 3
   },
   "file_extension": ".py",
   "mimetype": "text/x-python",
   "name": "python",
   "nbconvert_exporter": "python",
   "pygments_lexer": "ipython3",
   "version": "3.10.6"
  }
 },
 "nbformat": 4,
 "nbformat_minor": 5
}
